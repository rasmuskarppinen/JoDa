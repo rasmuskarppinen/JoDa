{
 "cells": [
  {
   "cell_type": "markdown",
   "metadata": {},
   "source": [
    "<i>Johdanto datatieteeseen TIJO.222</i> <br>\n",
    "<i>Rasmus Karppinen H275376</i>\n",
    "<hr>\n",
    "\n",
    "# Oppimispäiväkirja\n",
    "<br>\n",
    "\n",
    "##### Oppimistavoitteet\n",
    "\n",
    "Datan parissa työskentely on kiinnostanut minua työuraa ajatellen, ja kurssin esitteen perusteella uskon saavani tästä tärkeää oppia tulevaisuutta ajatellen. Olen kuullut myös muutamilta vanhemmilta opiskelijoilta tämän olevan hyvä ja hyödyllinen kurssi. Joillakin aiemmilla kursseilla data-analytiikkaa liiketoiminnan apuvälineenä on jo käsitelty, mutta vielä melko pintapuolisesti, joten toivoisinkin saavani syvempää ymmärrystä analytiikasta teorian, menetelmien, toimintamallien ja hyödyntämisen tasolla. Koska data-analytiikan työkalujakaan ei ole aiemmilla kursseilla kovinkaan laajasti hyödynnetty, erityisesti pythonin ja sen kirjastojen käytöstä data-analytiikassa olen kiinnostunut oppimaan.\n",
    "\n",
    "### Luento 1\n",
    "\n"
   ]
  }
 ],
 "metadata": {
  "interpreter": {
   "hash": "50d1fb7e7f352c46fa7bc5a2b562e6b2d2463f06feca57d8d551e05549a346c2"
  },
  "kernelspec": {
   "display_name": "Python 3.10.2 64-bit",
   "language": "python",
   "name": "python3"
  },
  "language_info": {
   "name": "python",
   "version": "3.10.2"
  },
  "orig_nbformat": 4
 },
 "nbformat": 4,
 "nbformat_minor": 2
}
